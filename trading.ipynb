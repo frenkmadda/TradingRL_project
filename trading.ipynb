{
 "cells": [
  {
   "cell_type": "markdown",
   "id": "4542552f7c2656f9",
   "metadata": {},
   "source": [
    "### Imports\n",
    "The *gym_anytrading* and *crypto_env* imports are needed to create a gymnasium environment."
   ]
  },
  {
   "cell_type": "code",
   "id": "6f12e8b5e9f64d9e",
   "metadata": {
    "ExecuteTime": {
     "end_time": "2025-03-07T11:07:52.411524Z",
     "start_time": "2025-03-07T11:07:44.812541Z"
    }
   },
   "source": [
    "import utils\n",
    "import crypto_env\n",
    "\n",
    "import gym_anytrading\n",
    "import gymnasium as gym\n",
    "import matplotlib.pyplot as plt\n",
    "import pandas as pd\n",
    "import quantstats as qs\n",
    "\n",
    "from stable_baselines3 import A2C, PPO, DQN"
   ],
   "outputs": [],
   "execution_count": 1
  },
  {
   "cell_type": "markdown",
   "id": "65720c4a77d268b7",
   "metadata": {},
   "source": "### Defining the DataFrame"
  },
  {
   "cell_type": "code",
   "id": "fba85d08da4a54a9",
   "metadata": {
    "ExecuteTime": {
     "end_time": "2025-03-07T11:07:52.473166Z",
     "start_time": "2025-03-07T11:07:52.415977Z"
    }
   },
   "source": [
    "dataset_path = \"data/crypto/btc-usd.csv\"\n",
    "dataset_type = \"crypto-v0\"  # \"stocks-v0\", \"forex-v0\", \"crypto-v0\"\n",
    "\n",
    "df = pd.read_csv(\n",
    "    dataset_path,\n",
    "    header=0,\n",
    "    parse_dates=[\"Date\"],\n",
    "    index_col=\"Date\",\n",
    ")\n",
    "df.head()"
   ],
   "outputs": [
    {
     "data": {
      "text/plain": [
       "                 Close        High         Low        Open    Volume\n",
       "Date                                                                \n",
       "2014-09-17  457.334015  468.174011  452.421997  465.864014  21056800\n",
       "2014-09-18  424.440002  456.859985  413.104004  456.859985  34483200\n",
       "2014-09-19  394.795990  427.834991  384.532013  424.102997  37919700\n",
       "2014-09-20  408.903992  423.295990  389.882996  394.673004  36863600\n",
       "2014-09-21  398.821014  412.425995  393.181000  408.084991  26580100"
      ],
      "text/html": [
       "<div>\n",
       "<style scoped>\n",
       "    .dataframe tbody tr th:only-of-type {\n",
       "        vertical-align: middle;\n",
       "    }\n",
       "\n",
       "    .dataframe tbody tr th {\n",
       "        vertical-align: top;\n",
       "    }\n",
       "\n",
       "    .dataframe thead th {\n",
       "        text-align: right;\n",
       "    }\n",
       "</style>\n",
       "<table border=\"1\" class=\"dataframe\">\n",
       "  <thead>\n",
       "    <tr style=\"text-align: right;\">\n",
       "      <th></th>\n",
       "      <th>Close</th>\n",
       "      <th>High</th>\n",
       "      <th>Low</th>\n",
       "      <th>Open</th>\n",
       "      <th>Volume</th>\n",
       "    </tr>\n",
       "    <tr>\n",
       "      <th>Date</th>\n",
       "      <th></th>\n",
       "      <th></th>\n",
       "      <th></th>\n",
       "      <th></th>\n",
       "      <th></th>\n",
       "    </tr>\n",
       "  </thead>\n",
       "  <tbody>\n",
       "    <tr>\n",
       "      <th>2014-09-17</th>\n",
       "      <td>457.334015</td>\n",
       "      <td>468.174011</td>\n",
       "      <td>452.421997</td>\n",
       "      <td>465.864014</td>\n",
       "      <td>21056800</td>\n",
       "    </tr>\n",
       "    <tr>\n",
       "      <th>2014-09-18</th>\n",
       "      <td>424.440002</td>\n",
       "      <td>456.859985</td>\n",
       "      <td>413.104004</td>\n",
       "      <td>456.859985</td>\n",
       "      <td>34483200</td>\n",
       "    </tr>\n",
       "    <tr>\n",
       "      <th>2014-09-19</th>\n",
       "      <td>394.795990</td>\n",
       "      <td>427.834991</td>\n",
       "      <td>384.532013</td>\n",
       "      <td>424.102997</td>\n",
       "      <td>37919700</td>\n",
       "    </tr>\n",
       "    <tr>\n",
       "      <th>2014-09-20</th>\n",
       "      <td>408.903992</td>\n",
       "      <td>423.295990</td>\n",
       "      <td>389.882996</td>\n",
       "      <td>394.673004</td>\n",
       "      <td>36863600</td>\n",
       "    </tr>\n",
       "    <tr>\n",
       "      <th>2014-09-21</th>\n",
       "      <td>398.821014</td>\n",
       "      <td>412.425995</td>\n",
       "      <td>393.181000</td>\n",
       "      <td>408.084991</td>\n",
       "      <td>26580100</td>\n",
       "    </tr>\n",
       "  </tbody>\n",
       "</table>\n",
       "</div>"
      ]
     },
     "execution_count": 2,
     "metadata": {},
     "output_type": "execute_result"
    }
   ],
   "execution_count": 2
  },
  {
   "cell_type": "markdown",
   "id": "1508a2941422bd44",
   "metadata": {},
   "source": "### Creating the environment"
  },
  {
   "cell_type": "code",
   "id": "4aa91cfb47fe8537",
   "metadata": {
    "ExecuteTime": {
     "end_time": "2025-03-07T11:07:52.488691Z",
     "start_time": "2025-03-07T11:07:52.475691Z"
    }
   },
   "source": [
    "seed = 69  # Nice\n",
    "\n",
    "total_num_episodes = 10\n",
    "total_learning_timesteps = 100_000\n",
    "\n",
    "window_size = 15\n",
    "end_index = len(df)\n",
    "\n",
    "env = gym.make(\n",
    "    dataset_type,\n",
    "    df=df,\n",
    "    window_size=window_size,\n",
    "    frame_bound=(window_size, end_index),\n",
    ")\n",
    "\n",
    "# Matplotlib\n",
    "plot_settings = {}\n",
    "plot_data = {\"x\": [i for i in range(1, total_num_episodes + 1)]}"
   ],
   "outputs": [],
   "execution_count": 3
  },
  {
   "cell_type": "markdown",
   "id": "80eb201c5ced90ce",
   "metadata": {},
   "source": [
    "### Training and testing the model\n",
    "\n",
    "1. With Advantage Actor-Critic algorithm\n",
    "2. With Proximal Policy Optimization algorithm\n",
    "3. With random actions"
   ]
  },
  {
   "metadata": {
    "ExecuteTime": {
     "end_time": "2025-03-07T11:14:40.769503Z",
     "start_time": "2025-03-07T11:07:52.491164Z"
    }
   },
   "cell_type": "code",
   "source": [
    "def train_and_get_rewards(model_name):\n",
    "    print(f\"Training {model_name} model…\")\n",
    "\n",
    "    if model_name == \"PPO\":\n",
    "        model = PPO(\"MlpPolicy\", env)\n",
    "    elif model_name == \"DQN\":\n",
    "        model = DQN(\"MlpPolicy\", env,\n",
    "            learning_rate=0.0005,\n",
    "            buffer_size=50000,\n",
    "            learning_starts=1000,\n",
    "            batch_size=32,\n",
    "            tau=1.0,\n",
    "            gamma=0.99,\n",
    "            train_freq=4,\n",
    "            target_update_interval=1000,\n",
    "            exploration_fraction=0.1,\n",
    "            exploration_final_eps=0.05,\n",
    "            verbose=0,\n",
    "            device= \"cuda\")\n",
    "    elif model_name == \"A2C\":\n",
    "        model = A2C(\"MlpPolicy\", env,\n",
    "            learning_rate=0.0003,  # Adjust the learning rate\n",
    "            gamma=0.95,  # Adjust the gamma\n",
    "            n_steps=5,\n",
    "            vf_coef=0.5,  # Value function coefficient\n",
    "            ent_coef=0.01,  # Entropy coefficient\n",
    "            max_grad_norm=0.5, # Modifica il gamma\n",
    "            verbose=0)\n",
    "    else:\n",
    "        model = None\n",
    "\n",
    "    rewards, info = utils.train_test_model(model, env, seed, total_learning_timesteps, total_num_episodes)\n",
    "    _, _, avg_res = utils.get_results(rewards, model_name, print_results=True)\n",
    "    plot_data[f\"{model_name}_rewards\"] = rewards\n",
    "    plot_settings[f\"{model_name}_rewards\"] = {\"label\": model_name}\n",
    "\n",
    "    profit = info[0][\"total_profit\"]\n",
    "    # money_spent = env.unwrapped.get_money_spent()\n",
    "    #money_left = env.unwrapped.get_wallet_value()\n",
    "    #roi = 100 * (money_left - money_spent) / money_spent\n",
    "    roi = (profit - 1) * 100\n",
    "\n",
    "    print(f\"Total Profit = {profit:.8f}\")\n",
    "   # print(f\"Total Money Spent = {money_spent:.2f}\")\n",
    "    #print(f\"Money Left = {money_left:.2f}\")\n",
    "    print(f\"ROI = {roi:.2f}%\")\n",
    "\n",
    "\n",
    "train_and_get_rewards(\"DQN\")\n",
    "train_and_get_rewards(\"PPO\")\n",
    "train_and_get_rewards(\"A2C\")"
   ],
   "id": "5f775c3da3b5c3b5",
   "outputs": [
    {
     "name": "stdout",
     "output_type": "stream",
     "text": [
      "Training DQN model…\n"
     ]
    },
    {
     "name": "stderr",
     "output_type": "stream",
     "text": [
      "model.learn(): 100%|██████████| 100000/100000 [01:30<00:00, 1106.42it/s]\n",
      "Testing: 100%|██████████| 10/10 [00:12<00:00,  1.20s/it]\n"
     ]
    },
    {
     "name": "stdout",
     "output_type": "stream",
     "text": [
      "\n",
      "Results for DQN model:\n",
      "Minimum reward: -165.506\n",
      "Maximum reward: -117.525\n",
      "Average reward: -139.689\n",
      "\n",
      "Total Profit = 1.45130199\n",
      "ROI = 45.13%\n",
      "Training PPO model…\n"
     ]
    },
    {
     "name": "stderr",
     "output_type": "stream",
     "text": [
      "model.learn(): 100300it [02:02, 815.97it/s]                             \n",
      "Testing: 100%|██████████| 10/10 [00:20<00:00,  2.08s/it]\n"
     ]
    },
    {
     "name": "stdout",
     "output_type": "stream",
     "text": [
      "\n",
      "Results for PPO model:\n",
      "Minimum reward: 1.189\n",
      "Maximum reward: 8.935\n",
      "Average reward: 5.422\n",
      "\n",
      "Total Profit = 68.35037112\n",
      "ROI = 6735.04%\n",
      "Training A2C model…\n"
     ]
    },
    {
     "name": "stderr",
     "output_type": "stream",
     "text": [
      "model.learn(): 100%|██████████| 100000/100000 [02:18<00:00, 721.07it/s]\n",
      "Testing: 100%|██████████| 10/10 [00:20<00:00,  2.04s/it]"
     ]
    },
    {
     "name": "stdout",
     "output_type": "stream",
     "text": [
      "\n",
      "Results for A2C model:\n",
      "Minimum reward: -29.630\n",
      "Maximum reward: -6.053\n",
      "Average reward: -19.435\n",
      "\n",
      "Total Profit = 5.10540729\n",
      "ROI = 410.54%\n"
     ]
    },
    {
     "name": "stderr",
     "output_type": "stream",
     "text": [
      "\n"
     ]
    }
   ],
   "execution_count": 4
  },
  {
   "cell_type": "markdown",
   "id": "72a4c400363f3042",
   "metadata": {},
   "source": "### Plotting the results"
  },
  {
   "cell_type": "code",
   "id": "df9412cc18b8de3f",
   "metadata": {
    "ExecuteTime": {
     "end_time": "2025-03-07T11:14:41.016770Z",
     "start_time": "2025-03-07T11:14:40.772026Z"
    }
   },
   "source": [
    "data = pd.DataFrame(plot_data)\n",
    "plt.figure(figsize=(12, 6))\n",
    "for key in plot_data:\n",
    "    if key == \"x\":\n",
    "        continue\n",
    "    line = plt.plot(\"x\", key, data=data, linewidth=1, label=plot_settings[key][\"label\"])\n",
    "\n",
    "\n",
    "plt.xlabel(\"episode\")\n",
    "plt.ylabel(\"reward\")\n",
    "plt.title(\"Random vs Agents\")\n",
    "plt.legend()\n",
    "plt.show()"
   ],
   "outputs": [
    {
     "data": {
      "text/plain": [
       "<Figure size 1200x600 with 1 Axes>"
      ],
      "image/png": "[encoded data removed]"
     },
     "metadata": {},
     "output_type": "display_data"
    }
   ],
   "execution_count": 5
  }
 ],
 "metadata": {
  "kernelspec": {
   "display_name": "Python 3",
   "language": "python",
   "name": "python3"
  },
  "language_info": {
   "codemirror_mode": {
    "name": "ipython",
    "version": 2
   },
   "file_extension": ".py",
   "mimetype": "text/x-python",
   "name": "python",
   "nbconvert_exporter": "python",
   "pygments_lexer": "ipython2",
   "version": "2.7.6"
  }
 },
 "nbformat": 4,
 "nbformat_minor": 5
}
