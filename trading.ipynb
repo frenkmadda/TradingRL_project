{
 "cells": [
  {
   "cell_type": "markdown",
   "id": "4542552f7c2656f9",
   "metadata": {},
   "source": [
    "### Imports\n",
    "The *gym_anytrading* and *crypto_env* imports are needed to create a gymnasium environment."
   ]
  },
  {
   "cell_type": "code",
   "id": "6f12e8b5e9f64d9e",
   "metadata": {
    "ExecuteTime": {
     "end_time": "2025-03-06T14:24:34.512982Z",
     "start_time": "2025-03-06T14:24:30.442962Z"
    }
   },
   "source": [
    "import utils\n",
    "import crypto_env\n",
    "\n",
    "import gym_anytrading\n",
    "import gymnasium as gym\n",
    "import matplotlib.pyplot as plt\n",
    "import pandas as pd\n",
    "import quantstats as qs\n",
    "\n",
    "from stable_baselines3 import A2C, PPO, DQN"
   ],
   "outputs": [],
   "execution_count": 1
  },
  {
   "cell_type": "markdown",
   "id": "65720c4a77d268b7",
   "metadata": {},
   "source": "### Defining the DataFrame"
  },
  {
   "cell_type": "code",
   "id": "fba85d08da4a54a9",
   "metadata": {
    "ExecuteTime": {
     "end_time": "2025-03-06T14:27:07.125991Z",
     "start_time": "2025-03-06T14:27:07.110595Z"
    }
   },
   "source": [
    "dataset_path = \"data/crypto/ada-usd.csv\"\n",
    "dataset_type = \"crypto-v0\"  # \"stocks-v0\", \"forex-v0\", \"crypto-v0\"\n",
    "\n",
    "df = pd.read_csv(\n",
    "    dataset_path,\n",
    "    header=0,\n",
    "    parse_dates=[\"Date\"],\n",
    "    index_col=\"Date\",\n",
    ")\n",
    "df.head()"
   ],
   "outputs": [
    {
     "data": {
      "text/plain": [
       "               Close      High       Low      Open    Volume\n",
       "Date                                                        \n",
       "2017-11-09  0.032053  0.035060  0.025006  0.025160  18716200\n",
       "2017-11-10  0.027119  0.033348  0.026451  0.032219   6766780\n",
       "2017-11-11  0.027437  0.029659  0.025684  0.026891   5532220\n",
       "2017-11-12  0.023977  0.027952  0.022591  0.027480   7280250\n",
       "2017-11-13  0.025808  0.026300  0.023495  0.024364   4419440"
      ],
      "text/html": [
       "<div>\n",
       "<style scoped>\n",
       "    .dataframe tbody tr th:only-of-type {\n",
       "        vertical-align: middle;\n",
       "    }\n",
       "\n",
       "    .dataframe tbody tr th {\n",
       "        vertical-align: top;\n",
       "    }\n",
       "\n",
       "    .dataframe thead th {\n",
       "        text-align: right;\n",
       "    }\n",
       "</style>\n",
       "<table border=\"1\" class=\"dataframe\">\n",
       "  <thead>\n",
       "    <tr style=\"text-align: right;\">\n",
       "      <th></th>\n",
       "      <th>Close</th>\n",
       "      <th>High</th>\n",
       "      <th>Low</th>\n",
       "      <th>Open</th>\n",
       "      <th>Volume</th>\n",
       "    </tr>\n",
       "    <tr>\n",
       "      <th>Date</th>\n",
       "      <th></th>\n",
       "      <th></th>\n",
       "      <th></th>\n",
       "      <th></th>\n",
       "      <th></th>\n",
       "    </tr>\n",
       "  </thead>\n",
       "  <tbody>\n",
       "    <tr>\n",
       "      <th>2017-11-09</th>\n",
       "      <td>0.032053</td>\n",
       "      <td>0.035060</td>\n",
       "      <td>0.025006</td>\n",
       "      <td>0.025160</td>\n",
       "      <td>18716200</td>\n",
       "    </tr>\n",
       "    <tr>\n",
       "      <th>2017-11-10</th>\n",
       "      <td>0.027119</td>\n",
       "      <td>0.033348</td>\n",
       "      <td>0.026451</td>\n",
       "      <td>0.032219</td>\n",
       "      <td>6766780</td>\n",
       "    </tr>\n",
       "    <tr>\n",
       "      <th>2017-11-11</th>\n",
       "      <td>0.027437</td>\n",
       "      <td>0.029659</td>\n",
       "      <td>0.025684</td>\n",
       "      <td>0.026891</td>\n",
       "      <td>5532220</td>\n",
       "    </tr>\n",
       "    <tr>\n",
       "      <th>2017-11-12</th>\n",
       "      <td>0.023977</td>\n",
       "      <td>0.027952</td>\n",
       "      <td>0.022591</td>\n",
       "      <td>0.027480</td>\n",
       "      <td>7280250</td>\n",
       "    </tr>\n",
       "    <tr>\n",
       "      <th>2017-11-13</th>\n",
       "      <td>0.025808</td>\n",
       "      <td>0.026300</td>\n",
       "      <td>0.023495</td>\n",
       "      <td>0.024364</td>\n",
       "      <td>4419440</td>\n",
       "    </tr>\n",
       "  </tbody>\n",
       "</table>\n",
       "</div>"
      ]
     },
     "execution_count": 6,
     "metadata": {},
     "output_type": "execute_result"
    }
   ],
   "execution_count": 6
  },
  {
   "cell_type": "markdown",
   "id": "1508a2941422bd44",
   "metadata": {},
   "source": "### Creating the environment"
  },
  {
   "cell_type": "code",
   "id": "4aa91cfb47fe8537",
   "metadata": {
    "ExecuteTime": {
     "end_time": "2025-03-06T14:27:09.934886Z",
     "start_time": "2025-03-06T14:27:09.929818Z"
    }
   },
   "source": [
    "seed = 69  # Nice\n",
    "\n",
    "total_num_episodes = 10\n",
    "total_learning_timesteps = 100_000\n",
    "\n",
    "window_size = 15\n",
    "end_index = len(df)\n",
    "\n",
    "env = gym.make(\n",
    "    dataset_type,\n",
    "    df=df,\n",
    "    window_size=window_size,\n",
    "    frame_bound=(window_size, end_index),\n",
    ")\n",
    "\n",
    "# Matplotlib\n",
    "plot_settings = {}\n",
    "plot_data = {\"x\": [i for i in range(1, total_num_episodes + 1)]}"
   ],
   "outputs": [],
   "execution_count": 7
  },
  {
   "cell_type": "markdown",
   "id": "80eb201c5ced90ce",
   "metadata": {},
   "source": [
    "### Training and testing the model\n",
    "\n",
    "1. With Advantage Actor-Critic algorithm\n",
    "2. With Proximal Policy Optimization algorithm\n",
    "3. With random actions"
   ]
  },
  {
   "metadata": {
    "ExecuteTime": {
     "end_time": "2025-03-06T14:45:45.401208Z",
     "start_time": "2025-03-06T14:43:55.692867Z"
    }
   },
   "cell_type": "code",
   "source": [
    "def train_and_get_rewards(model_name):\n",
    "    print(f\"Training {model_name} model…\")\n",
    "\n",
    "    if model_name == \"PPO\":\n",
    "        model = PPO(\"MlpPolicy\", env)\n",
    "    elif model_name == \"DQN\":\n",
    "        model = DQN(\"MlpPolicy\", env,\n",
    "            learning_rate=0.0005,\n",
    "            buffer_size=50000,\n",
    "            learning_starts=1000,\n",
    "            batch_size=32,\n",
    "            tau=1.0,\n",
    "            gamma=0.99,\n",
    "            train_freq=4,\n",
    "            target_update_interval=1000,\n",
    "            exploration_fraction=0.1,\n",
    "            exploration_final_eps=0.05,\n",
    "            verbose=0,\n",
    "            device= \"cuda\")\n",
    "    elif model_name == \"A2C\":\n",
    "        model = A2C(\"MlpPolicy\", env,\n",
    "            learning_rate=0.0007,  # Modifica il learning rate\n",
    "            gamma=0.99,  # Modifica il gamma\n",
    "            verbose=0)\n",
    "    else:\n",
    "        model = None\n",
    "\n",
    "    rewards, info = utils.train_test_model(model, env, seed, total_learning_timesteps, total_num_episodes)\n",
    "    _, _, avg_res = utils.get_results(rewards, model_name, print_results=True)\n",
    "    plot_data[f\"{model_name}_rewards\"] = rewards\n",
    "    plot_settings[f\"{model_name}_rewards\"] = {\"label\": model_name}\n",
    "\n",
    "    profit = info[0][\"total_profit\"]\n",
    "    # money_spent = env.unwrapped.get_money_spent()\n",
    "    #money_left = env.unwrapped.get_wallet_value()\n",
    "    #roi = 100 * (money_left - money_spent) / money_spent\n",
    "    roi = (profit - 1) * 100\n",
    "\n",
    "    print(f\"Total Profit = {profit:.8f}\")\n",
    "   # print(f\"Total Money Spent = {money_spent:.2f}\")\n",
    "    #print(f\"Money Left = {money_left:.2f}\")\n",
    "    print(f\"ROI = {roi:.2f}%\")\n",
    "\n",
    "\n",
    "train_and_get_rewards(\"DQN\")\n",
    "train_and_get_rewards(\"PPO\")\n",
    "train_and_get_rewards(\"A2C\")"
   ],
   "id": "5f775c3da3b5c3b5",
   "outputs": [
    {
     "name": "stdout",
     "output_type": "stream",
     "text": [
      "Training DQN model…\n"
     ]
    },
    {
     "name": "stderr",
     "output_type": "stream",
     "text": [
      "model.learn(): 100%|██████████| 100000/100000 [00:27<00:00, 3600.40it/s]\n",
      "Testing: 100%|██████████| 10/10 [00:02<00:00,  3.99it/s]\n"
     ]
    },
    {
     "name": "stdout",
     "output_type": "stream",
     "text": [
      "\n",
      "Results for DQN model:\n",
      "Minimum reward: -3.281\n",
      "Maximum reward: -1.088\n",
      "Average reward: -2.075\n",
      "\n",
      "Total Profit = 0.00724304\n",
      "ROI = -99.28%\n",
      "Training PPO model…\n"
     ]
    },
    {
     "name": "stderr",
     "output_type": "stream",
     "text": [
      "model.learn(): 100300it [00:32, 3049.10it/s]                           \n",
      "Testing: 100%|██████████| 10/10 [00:04<00:00,  2.42it/s]\n"
     ]
    },
    {
     "name": "stdout",
     "output_type": "stream",
     "text": [
      "\n",
      "Results for PPO model:\n",
      "Minimum reward: 2.413\n",
      "Maximum reward: 5.443\n",
      "Average reward: 4.151\n",
      "\n",
      "Total Profit = 181.64392090\n",
      "ROI = 18064.39%\n",
      "Training A2C model…\n"
     ]
    },
    {
     "name": "stderr",
     "output_type": "stream",
     "text": [
      "model.learn(): 100%|██████████| 100000/100000 [00:38<00:00, 2608.09it/s]\n",
      "Testing: 100%|██████████| 10/10 [00:04<00:00,  2.47it/s]"
     ]
    },
    {
     "name": "stdout",
     "output_type": "stream",
     "text": [
      "\n",
      "Results for A2C model:\n",
      "Minimum reward: -0.006\n",
      "Maximum reward: 0.000\n",
      "Average reward: -0.001\n",
      "\n",
      "Total Profit = 1.00000000\n",
      "ROI = 0.00%\n"
     ]
    },
    {
     "name": "stderr",
     "output_type": "stream",
     "text": [
      "\n"
     ]
    }
   ],
   "execution_count": 12
  },
  {
   "cell_type": "markdown",
   "id": "72a4c400363f3042",
   "metadata": {},
   "source": "### Plotting the results"
  },
  {
   "cell_type": "code",
   "id": "df9412cc18b8de3f",
   "metadata": {
    "ExecuteTime": {
     "end_time": "2025-03-06T14:26:24.043332Z",
     "start_time": "2025-03-06T14:26:23.942122Z"
    }
   },
   "source": [
    "data = pd.DataFrame(plot_data)\n",
    "plt.figure(figsize=(12, 6))\n",
    "for key in plot_data:\n",
    "    if key == \"x\":\n",
    "        continue\n",
    "    line = plt.plot(\"x\", key, data=data, linewidth=1, label=plot_settings[key][\"label\"])\n",
    "\n",
    "\n",
    "plt.xlabel(\"episode\")\n",
    "plt.ylabel(\"reward\")\n",
    "plt.title(\"Random vs Agents\")\n",
    "plt.legend()\n",
    "plt.show()"
   ],
   "outputs": [
    {
     "data": {
      "text/plain": [
       "<Figure size 1200x600 with 1 Axes>"
      ],
      "image/png": "[encoded data removed]"
     },
     "metadata": {},
     "output_type": "display_data"
    }
   ],
   "execution_count": 5
  }
 ],
 "metadata": {
  "kernelspec": {
   "display_name": "Python 3",
   "language": "python",
   "name": "python3"
  },
  "language_info": {
   "codemirror_mode": {
    "name": "ipython",
    "version": 2
   },
   "file_extension": ".py",
   "mimetype": "text/x-python",
   "name": "python",
   "nbconvert_exporter": "python",
   "pygments_lexer": "ipython2",
   "version": "2.7.6"
  }
 },
 "nbformat": 4,
 "nbformat_minor": 5
}
