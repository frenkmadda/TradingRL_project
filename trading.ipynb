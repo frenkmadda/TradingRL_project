{
 "cells": [
  {
   "metadata": {},
   "cell_type": "markdown",
   "source": [
    "### Imports\n",
    "The *gym_anytrading* and *crypto_env* imports are needed to create a gymnasium environment."
   ],
   "id": "5e8efb2d7589259d"
  },
  {
   "metadata": {},
   "cell_type": "code",
   "outputs": [],
   "execution_count": null,
   "source": [
    "import utils\n",
    "import crypto_env\n",
    "\n",
    "import gym_anytrading\n",
    "import gymnasium as gym\n",
    "import matplotlib.pyplot as plt\n",
    "import pandas as pd\n",
    "import quantstats as qs\n",
    "from train_and_test import train_and_get_rewards\n",
    "\n",
    "from stable_baselines3 import A2C, PPO, DQN"
   ],
   "id": "73a189923f852265"
  },
  {
   "metadata": {},
   "cell_type": "markdown",
   "source": "### Defining the DataFrame",
   "id": "a19e578459565698"
  },
  {
   "metadata": {},
   "cell_type": "code",
   "outputs": [],
   "execution_count": null,
   "source": [
    "dataset_path = \"data/crypto/eth-usd.csv\"\n",
    "dataset_type = \"crypto-v0\"  # \"stocks-v0\", \"forex-v0\", \"crypto-v0\"\n",
    "\n",
    "df = pd.read_csv(\n",
    "    dataset_path,\n",
    "    header=0,\n",
    "    parse_dates=[\"Date\"],\n",
    "    index_col=\"Date\",\n",
    ")\n",
    "df.head()"
   ],
   "id": "d22a1f7644853f15"
  },
  {
   "metadata": {},
   "cell_type": "code",
   "outputs": [],
   "execution_count": null,
   "source": [
    "column_to_plot = \"Close\"\n",
    "\n",
    "if column_to_plot in df.columns:\n",
    "    plt.figure(figsize=(12, 6))\n",
    "    plt.plot(df.index, df[column_to_plot], label=column_to_plot, color='blue')\n",
    "    plt.title(f\"Value Distribuition for '{column_to_plot}'\")\n",
    "    plt.xlabel(\"Date\")\n",
    "    plt.ylabel(column_to_plot)\n",
    "    plt.legend()\n",
    "    plt.grid(True, linestyle='--', alpha=0.6)\n",
    "    plt.savefig(f'grafici/eth_{column_to_plot.lower()}.png')\n",
    "    print(f\"Grafico salvato come grafici/ada_{column_to_plot.lower()}_distribuition.png\")\n",
    "    plt.close()\n",
    "else:\n",
    "    print(f\"La colonna '{column_to_plot}' non esiste nel DataFrame.\")"
   ],
   "id": "5f6838127f652a52"
  },
  {
   "metadata": {},
   "cell_type": "markdown",
   "source": "### Creating the environment",
   "id": "7f8fed0fdc3e9ede"
  },
  {
   "metadata": {},
   "cell_type": "code",
   "outputs": [],
   "execution_count": null,
   "source": [
    "seed = 69  # Nice\n",
    "total_num_episodes = 10\n",
    "total_learning_timesteps = 1000\n",
    "\n",
    "window_size = 15\n",
    "end_index = len(df)\n",
    "\n",
    "env = gym.make(\n",
    "    dataset_type,\n",
    "    df=df,\n",
    "    window_size=window_size,\n",
    "    frame_bound=(window_size, end_index),\n",
    ")"
   ],
   "id": "2ac756394610865b"
  },
  {
   "metadata": {},
   "cell_type": "markdown",
   "source": [
    "### Training and testing the model\n",
    "\n",
    "1. With DQN\n",
    "2. With Proximal Policy Optimization algorithm\n",
    "3. With Advantage Actor Critique"
   ],
   "id": "9d1d208c080aca83"
  },
  {
   "metadata": {},
   "cell_type": "code",
   "outputs": [],
   "execution_count": null,
   "source": [
    "# Using the function in train_and_test.py\n",
    "train_and_get_rewards(\"DQN\", env, seed, total_learning_timesteps, total_num_episodes)\n",
    "train_and_get_rewards(\"PPO\", env, seed, total_learning_timesteps, total_num_episodes)\n",
    "train_and_get_rewards(\"A2C\", env, seed, total_learning_timesteps, total_num_episodes)"
   ],
   "id": "c725f48e29d849a9"
  },
  {
   "metadata": {},
   "cell_type": "markdown",
   "source": [
    "#TODO: Studiare per bene tutto il codice e capire come funziona, le differenza tra DQN con e senza QTable\n",
    "#TODO: Grafico di QTable anche negli altri"
   ],
   "id": "e62cbb6d3e288f37"
  }
 ],
 "metadata": {
  "kernelspec": {
   "display_name": "Python 3",
   "language": "python",
   "name": "python3"
  },
  "language_info": {
   "codemirror_mode": {
    "name": "ipython",
    "version": 2
   },
   "file_extension": ".py",
   "mimetype": "text/x-python",
   "name": "python",
   "nbconvert_exporter": "python",
   "pygments_lexer": "ipython2",
   "version": "2.7.6"
  }
 },
 "nbformat": 4,
 "nbformat_minor": 5
}
